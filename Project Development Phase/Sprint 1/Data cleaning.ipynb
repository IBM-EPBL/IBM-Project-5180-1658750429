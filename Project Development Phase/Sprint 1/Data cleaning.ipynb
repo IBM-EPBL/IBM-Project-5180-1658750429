{
 "cells": [
  {
   "cell_type": "code",
   "execution_count": 1,
   "metadata": {
    "id": "hNr5_7Mvqma4"
   },
   "outputs": [],
   "source": [
    "import numpy as np\n",
    "import pandas as pd\n",
    "import matplotlib.pyplot as plt\n",
    "import seaborn as sns\n",
    "import warnings\n",
    "warnings.filterwarnings('ignore')"
   ]
  },
  {
   "cell_type": "code",
   "execution_count": 2,
   "metadata": {
    "id": "DiDc18dpq6kf"
   },
   "outputs": [],
   "source": [
    "df=pd.read_csv(\"C:/Users/Chandana/Desktop/CKD/kidney_disease.csv\")"
   ]
  },
  {
   "cell_type": "markdown",
   "metadata": {
    "id": "5W9xWiGB1GgN"
   },
   "source": [
    "**Understanding the dataset**"
   ]
  },
  {
   "cell_type": "code",
   "execution_count": 3,
   "metadata": {
    "colab": {
     "base_uri": "https://localhost:8080/"
    },
    "id": "jb2E_gmyq9Pb",
    "outputId": "f0b736b6-3ec0-4db7-b385-5fcfc70c1cd2"
   },
   "outputs": [
    {
     "name": "stdout",
     "output_type": "stream",
     "text": [
      "The dataset shape is (400, 26)\n"
     ]
    }
   ],
   "source": [
    "print(\"The dataset shape is {}\".format(df.shape))"
   ]
  },
  {
   "cell_type": "code",
   "execution_count": 4,
   "metadata": {
    "colab": {
     "base_uri": "https://localhost:8080/",
     "height": 299
    },
    "id": "fxOw_CSQsUDQ",
    "outputId": "203ea798-0aea-4d34-ebdb-071a4d722d98"
   },
   "outputs": [
    {
     "data": {
      "text/html": [
       "<div>\n",
       "<style scoped>\n",
       "    .dataframe tbody tr th:only-of-type {\n",
       "        vertical-align: middle;\n",
       "    }\n",
       "\n",
       "    .dataframe tbody tr th {\n",
       "        vertical-align: top;\n",
       "    }\n",
       "\n",
       "    .dataframe thead th {\n",
       "        text-align: right;\n",
       "    }\n",
       "</style>\n",
       "<table border=\"1\" class=\"dataframe\">\n",
       "  <thead>\n",
       "    <tr style=\"text-align: right;\">\n",
       "      <th></th>\n",
       "      <th>id</th>\n",
       "      <th>age</th>\n",
       "      <th>bp</th>\n",
       "      <th>sg</th>\n",
       "      <th>al</th>\n",
       "      <th>su</th>\n",
       "      <th>rbc</th>\n",
       "      <th>pc</th>\n",
       "      <th>pcc</th>\n",
       "      <th>ba</th>\n",
       "      <th>...</th>\n",
       "      <th>pcv</th>\n",
       "      <th>wc</th>\n",
       "      <th>rc</th>\n",
       "      <th>htn</th>\n",
       "      <th>dm</th>\n",
       "      <th>cad</th>\n",
       "      <th>appet</th>\n",
       "      <th>pe</th>\n",
       "      <th>ane</th>\n",
       "      <th>classification</th>\n",
       "    </tr>\n",
       "  </thead>\n",
       "  <tbody>\n",
       "    <tr>\n",
       "      <th>0</th>\n",
       "      <td>0</td>\n",
       "      <td>48.0</td>\n",
       "      <td>80.0</td>\n",
       "      <td>1.020</td>\n",
       "      <td>1.0</td>\n",
       "      <td>0.0</td>\n",
       "      <td>NaN</td>\n",
       "      <td>normal</td>\n",
       "      <td>notpresent</td>\n",
       "      <td>notpresent</td>\n",
       "      <td>...</td>\n",
       "      <td>44</td>\n",
       "      <td>7800</td>\n",
       "      <td>5.2</td>\n",
       "      <td>yes</td>\n",
       "      <td>yes</td>\n",
       "      <td>no</td>\n",
       "      <td>good</td>\n",
       "      <td>no</td>\n",
       "      <td>no</td>\n",
       "      <td>ckd</td>\n",
       "    </tr>\n",
       "    <tr>\n",
       "      <th>1</th>\n",
       "      <td>1</td>\n",
       "      <td>7.0</td>\n",
       "      <td>50.0</td>\n",
       "      <td>1.020</td>\n",
       "      <td>4.0</td>\n",
       "      <td>0.0</td>\n",
       "      <td>NaN</td>\n",
       "      <td>normal</td>\n",
       "      <td>notpresent</td>\n",
       "      <td>notpresent</td>\n",
       "      <td>...</td>\n",
       "      <td>38</td>\n",
       "      <td>6000</td>\n",
       "      <td>NaN</td>\n",
       "      <td>no</td>\n",
       "      <td>no</td>\n",
       "      <td>no</td>\n",
       "      <td>good</td>\n",
       "      <td>no</td>\n",
       "      <td>no</td>\n",
       "      <td>ckd</td>\n",
       "    </tr>\n",
       "    <tr>\n",
       "      <th>2</th>\n",
       "      <td>2</td>\n",
       "      <td>62.0</td>\n",
       "      <td>80.0</td>\n",
       "      <td>1.010</td>\n",
       "      <td>2.0</td>\n",
       "      <td>3.0</td>\n",
       "      <td>normal</td>\n",
       "      <td>normal</td>\n",
       "      <td>notpresent</td>\n",
       "      <td>notpresent</td>\n",
       "      <td>...</td>\n",
       "      <td>31</td>\n",
       "      <td>7500</td>\n",
       "      <td>NaN</td>\n",
       "      <td>no</td>\n",
       "      <td>yes</td>\n",
       "      <td>no</td>\n",
       "      <td>poor</td>\n",
       "      <td>no</td>\n",
       "      <td>yes</td>\n",
       "      <td>ckd</td>\n",
       "    </tr>\n",
       "    <tr>\n",
       "      <th>3</th>\n",
       "      <td>3</td>\n",
       "      <td>48.0</td>\n",
       "      <td>70.0</td>\n",
       "      <td>1.005</td>\n",
       "      <td>4.0</td>\n",
       "      <td>0.0</td>\n",
       "      <td>normal</td>\n",
       "      <td>abnormal</td>\n",
       "      <td>present</td>\n",
       "      <td>notpresent</td>\n",
       "      <td>...</td>\n",
       "      <td>32</td>\n",
       "      <td>6700</td>\n",
       "      <td>3.9</td>\n",
       "      <td>yes</td>\n",
       "      <td>no</td>\n",
       "      <td>no</td>\n",
       "      <td>poor</td>\n",
       "      <td>yes</td>\n",
       "      <td>yes</td>\n",
       "      <td>ckd</td>\n",
       "    </tr>\n",
       "    <tr>\n",
       "      <th>4</th>\n",
       "      <td>4</td>\n",
       "      <td>51.0</td>\n",
       "      <td>80.0</td>\n",
       "      <td>1.010</td>\n",
       "      <td>2.0</td>\n",
       "      <td>0.0</td>\n",
       "      <td>normal</td>\n",
       "      <td>normal</td>\n",
       "      <td>notpresent</td>\n",
       "      <td>notpresent</td>\n",
       "      <td>...</td>\n",
       "      <td>35</td>\n",
       "      <td>7300</td>\n",
       "      <td>4.6</td>\n",
       "      <td>no</td>\n",
       "      <td>no</td>\n",
       "      <td>no</td>\n",
       "      <td>good</td>\n",
       "      <td>no</td>\n",
       "      <td>no</td>\n",
       "      <td>ckd</td>\n",
       "    </tr>\n",
       "  </tbody>\n",
       "</table>\n",
       "<p>5 rows × 26 columns</p>\n",
       "</div>"
      ],
      "text/plain": [
       "   id   age    bp     sg   al   su     rbc        pc         pcc          ba  \\\n",
       "0   0  48.0  80.0  1.020  1.0  0.0     NaN    normal  notpresent  notpresent   \n",
       "1   1   7.0  50.0  1.020  4.0  0.0     NaN    normal  notpresent  notpresent   \n",
       "2   2  62.0  80.0  1.010  2.0  3.0  normal    normal  notpresent  notpresent   \n",
       "3   3  48.0  70.0  1.005  4.0  0.0  normal  abnormal     present  notpresent   \n",
       "4   4  51.0  80.0  1.010  2.0  0.0  normal    normal  notpresent  notpresent   \n",
       "\n",
       "   ...  pcv    wc   rc  htn   dm  cad appet   pe  ane classification  \n",
       "0  ...   44  7800  5.2  yes  yes   no  good   no   no            ckd  \n",
       "1  ...   38  6000  NaN   no   no   no  good   no   no            ckd  \n",
       "2  ...   31  7500  NaN   no  yes   no  poor   no  yes            ckd  \n",
       "3  ...   32  6700  3.9  yes   no   no  poor  yes  yes            ckd  \n",
       "4  ...   35  7300  4.6   no   no   no  good   no   no            ckd  \n",
       "\n",
       "[5 rows x 26 columns]"
      ]
     },
     "execution_count": 4,
     "metadata": {},
     "output_type": "execute_result"
    }
   ],
   "source": [
    "df.head()"
   ]
  },
  {
   "cell_type": "code",
   "execution_count": 5,
   "metadata": {
    "colab": {
     "base_uri": "https://localhost:8080/"
    },
    "id": "v1UfQtwHsVeg",
    "outputId": "7f7cdd34-7af6-41dc-f049-0aa0f8aa6cda"
   },
   "outputs": [
    {
     "data": {
      "text/plain": [
       "Index(['id', 'age', 'bp', 'sg', 'al', 'su', 'rbc', 'pc', 'pcc', 'ba', 'bgr',\n",
       "       'bu', 'sc', 'sod', 'pot', 'hemo', 'pcv', 'wc', 'rc', 'htn', 'dm', 'cad',\n",
       "       'appet', 'pe', 'ane', 'classification'],\n",
       "      dtype='object')"
      ]
     },
     "execution_count": 5,
     "metadata": {},
     "output_type": "execute_result"
    }
   ],
   "source": [
    "df.columns"
   ]
  },
  {
   "cell_type": "code",
   "execution_count": 6,
   "metadata": {
    "colab": {
     "base_uri": "https://localhost:8080/"
    },
    "id": "RCec-M9AsXaY",
    "outputId": "4c21ed30-7b6f-4e52-e350-671065b5999c"
   },
   "outputs": [
    {
     "name": "stdout",
     "output_type": "stream",
     "text": [
      "<class 'pandas.core.frame.DataFrame'>\n",
      "RangeIndex: 400 entries, 0 to 399\n",
      "Data columns (total 26 columns):\n",
      " #   Column          Non-Null Count  Dtype  \n",
      "---  ------          --------------  -----  \n",
      " 0   id              400 non-null    int64  \n",
      " 1   age             391 non-null    float64\n",
      " 2   bp              388 non-null    float64\n",
      " 3   sg              353 non-null    float64\n",
      " 4   al              354 non-null    float64\n",
      " 5   su              351 non-null    float64\n",
      " 6   rbc             248 non-null    object \n",
      " 7   pc              335 non-null    object \n",
      " 8   pcc             396 non-null    object \n",
      " 9   ba              396 non-null    object \n",
      " 10  bgr             356 non-null    float64\n",
      " 11  bu              381 non-null    float64\n",
      " 12  sc              383 non-null    float64\n",
      " 13  sod             313 non-null    float64\n",
      " 14  pot             312 non-null    float64\n",
      " 15  hemo            348 non-null    float64\n",
      " 16  pcv             330 non-null    object \n",
      " 17  wc              295 non-null    object \n",
      " 18  rc              270 non-null    object \n",
      " 19  htn             398 non-null    object \n",
      " 20  dm              398 non-null    object \n",
      " 21  cad             398 non-null    object \n",
      " 22  appet           399 non-null    object \n",
      " 23  pe              399 non-null    object \n",
      " 24  ane             399 non-null    object \n",
      " 25  classification  400 non-null    object \n",
      "dtypes: float64(11), int64(1), object(14)\n",
      "memory usage: 81.4+ KB\n"
     ]
    }
   ],
   "source": [
    "df.info()"
   ]
  },
  {
   "cell_type": "markdown",
   "metadata": {
    "id": "1EoOSz4_vV8N"
   },
   "source": [
    "**DataPreprocessing**"
   ]
  },
  {
   "cell_type": "code",
   "execution_count": 7,
   "metadata": {
    "colab": {
     "base_uri": "https://localhost:8080/"
    },
    "id": "zt_QJ4EXuUK1",
    "outputId": "0975e8f5-3e70-4dab-ba82-12c004824ba9"
   },
   "outputs": [
    {
     "data": {
      "text/plain": [
       "41      21\n",
       "52      21\n",
       "44      19\n",
       "48      19\n",
       "40      16\n",
       "43      14\n",
       "42      13\n",
       "45      13\n",
       "32      12\n",
       "36      12\n",
       "33      12\n",
       "50      12\n",
       "28      12\n",
       "34      11\n",
       "37      11\n",
       "30       9\n",
       "29       9\n",
       "35       9\n",
       "46       9\n",
       "31       8\n",
       "24       7\n",
       "39       7\n",
       "26       6\n",
       "38       5\n",
       "53       4\n",
       "51       4\n",
       "49       4\n",
       "47       4\n",
       "54       4\n",
       "25       3\n",
       "27       3\n",
       "22       3\n",
       "19       2\n",
       "23       2\n",
       "15       1\n",
       "21       1\n",
       "17       1\n",
       "20       1\n",
       "\\t43     1\n",
       "18       1\n",
       "9        1\n",
       "14       1\n",
       "\\t?      1\n",
       "16       1\n",
       "Name: pcv, dtype: int64"
      ]
     },
     "execution_count": 7,
     "metadata": {},
     "output_type": "execute_result"
    }
   ],
   "source": [
    "df['pcv'].value_counts()"
   ]
  },
  {
   "cell_type": "code",
   "execution_count": 8,
   "metadata": {
    "colab": {
     "base_uri": "https://localhost:8080/"
    },
    "id": "EVbhjEOCuhxX",
    "outputId": "eae80d81-1de9-4206-c348-f4a59bda3636"
   },
   "outputs": [
    {
     "data": {
      "text/plain": [
       "9800     11\n",
       "6700     10\n",
       "9200      9\n",
       "9600      9\n",
       "7200      9\n",
       "         ..\n",
       "19100     1\n",
       "\\t?       1\n",
       "12300     1\n",
       "14900     1\n",
       "12700     1\n",
       "Name: wc, Length: 92, dtype: int64"
      ]
     },
     "execution_count": 8,
     "metadata": {},
     "output_type": "execute_result"
    }
   ],
   "source": [
    "df['wc'].value_counts()"
   ]
  },
  {
   "cell_type": "code",
   "execution_count": 9,
   "metadata": {
    "colab": {
     "base_uri": "https://localhost:8080/"
    },
    "id": "Rw_UtrO3unpJ",
    "outputId": "32ed93b1-7ad9-410b-a63a-ea44c52dbfe6"
   },
   "outputs": [
    {
     "data": {
      "text/plain": [
       "5.2    18\n",
       "4.5    16\n",
       "4.9    14\n",
       "4.7    11\n",
       "4.8    10\n",
       "3.9    10\n",
       "4.6     9\n",
       "3.4     9\n",
       "5.9     8\n",
       "5.5     8\n",
       "6.1     8\n",
       "5.0     8\n",
       "3.7     8\n",
       "5.3     7\n",
       "5.8     7\n",
       "5.4     7\n",
       "3.8     7\n",
       "5.6     6\n",
       "4.3     6\n",
       "4.2     6\n",
       "3.2     5\n",
       "4.4     5\n",
       "5.7     5\n",
       "6.4     5\n",
       "5.1     5\n",
       "6.2     5\n",
       "6.5     5\n",
       "4.1     5\n",
       "3.6     4\n",
       "6.3     4\n",
       "6.0     4\n",
       "4.0     3\n",
       "3.3     3\n",
       "4       3\n",
       "3.5     3\n",
       "2.9     2\n",
       "3.1     2\n",
       "2.6     2\n",
       "2.1     2\n",
       "2.5     2\n",
       "2.8     2\n",
       "3.0     2\n",
       "2.7     2\n",
       "5       2\n",
       "2.3     1\n",
       "\\t?     1\n",
       "2.4     1\n",
       "3       1\n",
       "8.0     1\n",
       "Name: rc, dtype: int64"
      ]
     },
     "execution_count": 9,
     "metadata": {},
     "output_type": "execute_result"
    }
   ],
   "source": [
    "df['rc'].value_counts()"
   ]
  },
  {
   "cell_type": "code",
   "execution_count": 10,
   "metadata": {
    "colab": {
     "base_uri": "https://localhost:8080/"
    },
    "id": "NGkuK-Wruuow",
    "outputId": "9230e375-323c-4696-a48c-d9726c8f63bc"
   },
   "outputs": [
    {
     "data": {
      "text/plain": [
       "no       258\n",
       "yes      134\n",
       "\\tno       3\n",
       "\\tyes      2\n",
       " yes       1\n",
       "Name: dm, dtype: int64"
      ]
     },
     "execution_count": 10,
     "metadata": {},
     "output_type": "execute_result"
    }
   ],
   "source": [
    "df['dm'].value_counts()"
   ]
  },
  {
   "cell_type": "code",
   "execution_count": 11,
   "metadata": {
    "colab": {
     "base_uri": "https://localhost:8080/"
    },
    "id": "-Cps7wynu0yi",
    "outputId": "783de659-5d33-4c23-9d68-4a31ee7c2d19"
   },
   "outputs": [
    {
     "data": {
      "text/plain": [
       "no      362\n",
       "yes      34\n",
       "\\tno      2\n",
       "Name: cad, dtype: int64"
      ]
     },
     "execution_count": 11,
     "metadata": {},
     "output_type": "execute_result"
    }
   ],
   "source": [
    "df['cad'].value_counts()"
   ]
  },
  {
   "cell_type": "code",
   "execution_count": 12,
   "metadata": {
    "colab": {
     "base_uri": "https://localhost:8080/"
    },
    "id": "KH-EjEZpu4h3",
    "outputId": "f6344d2c-f4e5-4d5e-cb74-c8aa750f49ca"
   },
   "outputs": [
    {
     "data": {
      "text/plain": [
       "ckd       248\n",
       "notckd    150\n",
       "ckd\\t       2\n",
       "Name: classification, dtype: int64"
      ]
     },
     "execution_count": 12,
     "metadata": {},
     "output_type": "execute_result"
    }
   ],
   "source": [
    "df['classification'].value_counts()"
   ]
  },
  {
   "cell_type": "code",
   "execution_count": 13,
   "metadata": {
    "id": "7umwATm1sZkT"
   },
   "outputs": [],
   "source": [
    "df['pcv']=df['pcv'].apply(lambda x:x if type(x)==type(3.5) else x.replace('\\t43','43').replace('\\t?','Nan'))\n",
    "\n",
    "# cleaning \"WC\"\n",
    "df['wc']=df['wc'].apply(lambda x:x if type(x)==type(3.5) else x.replace('\\t?','Nan').replace('\\t6200','6200').replace('\\t8400','8400'))\n",
    "\n",
    "# cleaning \"RC\"\n",
    "df['rc']=df['rc'].apply(lambda x:x if type(x)==type(3.5) else x.replace('\\t?','Nan'))\n",
    "\n",
    "# cleaning \"dm\"\n",
    "df['dm']=df['dm'].apply(lambda x:x if type(x)==type(3.5) else x.replace('\\tno','no').replace('\\tyes','yes').replace(' yes','yes'))\n",
    "\n",
    "# cleaning \"CAD\"\n",
    "df['cad']=df['cad'].apply(lambda x:x if type(x)==type(3.5) else x.replace('\\tno','no'))\n",
    "\n",
    "# cleaning \"Classification\"\n",
    "df['classification']=df['classification'].apply(lambda x:x if type(x)==type(3.5) else x.replace('ckd\\t','ckd'))"
   ]
  },
  {
   "cell_type": "code",
   "execution_count": 14,
   "metadata": {
    "id": "OzpXNpCXsmZ0"
   },
   "outputs": [],
   "source": [
    "#explicitly converting numerical columns \n",
    "mistyped=[['pcv','rc','wc']]\n",
    "for i in mistyped:\n",
    "    df[i]=df[i].astype('float')"
   ]
  },
  {
   "cell_type": "code",
   "execution_count": 15,
   "metadata": {
    "colab": {
     "base_uri": "https://localhost:8080/"
    },
    "id": "bA-xWrigsp-6",
    "outputId": "419059e3-bdff-49fd-f445-d09f8c265109"
   },
   "outputs": [
    {
     "data": {
      "text/plain": [
       "['rbc',\n",
       " 'pc',\n",
       " 'pcc',\n",
       " 'ba',\n",
       " 'htn',\n",
       " 'dm',\n",
       " 'cad',\n",
       " 'appet',\n",
       " 'pe',\n",
       " 'ane',\n",
       " 'classification']"
      ]
     },
     "execution_count": 15,
     "metadata": {},
     "output_type": "execute_result"
    }
   ],
   "source": [
    "#categorical columns\n",
    "cat_cols=list(df.select_dtypes('object'))\n",
    "cat_cols"
   ]
  },
  {
   "cell_type": "code",
   "execution_count": 16,
   "metadata": {
    "colab": {
     "base_uri": "https://localhost:8080/"
    },
    "id": "HUKlpJ-astgS",
    "outputId": "e314d953-b090-4872-9813-0f7c180472da"
   },
   "outputs": [
    {
     "data": {
      "text/plain": [
       "['id',\n",
       " 'age',\n",
       " 'bp',\n",
       " 'sg',\n",
       " 'al',\n",
       " 'su',\n",
       " 'bgr',\n",
       " 'bu',\n",
       " 'sc',\n",
       " 'sod',\n",
       " 'pot',\n",
       " 'hemo',\n",
       " 'pcv',\n",
       " 'wc',\n",
       " 'rc']"
      ]
     },
     "execution_count": 16,
     "metadata": {},
     "output_type": "execute_result"
    }
   ],
   "source": [
    "#numerical columns\n",
    "num_cols=list(df.select_dtypes(['int64','float64']))\n",
    "num_cols"
   ]
  },
  {
   "cell_type": "code",
   "execution_count": 17,
   "metadata": {
    "colab": {
     "base_uri": "https://localhost:8080/"
    },
    "id": "-_86nJ8ntIXd",
    "outputId": "deca5e01-2581-47ce-ff71-4967458011d9"
   },
   "outputs": [
    {
     "data": {
      "text/plain": [
       "rbc               152\n",
       "rc                131\n",
       "wc                106\n",
       "pot                88\n",
       "sod                87\n",
       "pcv                71\n",
       "pc                 65\n",
       "hemo               52\n",
       "su                 49\n",
       "sg                 47\n",
       "al                 46\n",
       "bgr                44\n",
       "bu                 19\n",
       "sc                 17\n",
       "bp                 12\n",
       "age                 9\n",
       "ba                  4\n",
       "pcc                 4\n",
       "htn                 2\n",
       "dm                  2\n",
       "cad                 2\n",
       "ane                 1\n",
       "appet               1\n",
       "pe                  1\n",
       "id                  0\n",
       "classification      0\n",
       "dtype: int64"
      ]
     },
     "execution_count": 17,
     "metadata": {},
     "output_type": "execute_result"
    }
   ],
   "source": [
    "#handling missing data\n",
    "df.isnull().sum().sort_values(ascending=False)"
   ]
  },
  {
   "cell_type": "code",
   "execution_count": 18,
   "metadata": {
    "colab": {
     "base_uri": "https://localhost:8080/"
    },
    "id": "1eZmIALuwUgw",
    "outputId": "dbffef14-0d89-475c-a613-bc1b42f9ad06"
   },
   "outputs": [
    {
     "data": {
      "text/plain": [
       "0    normal\n",
       "dtype: object"
      ]
     },
     "execution_count": 18,
     "metadata": {},
     "output_type": "execute_result"
    }
   ],
   "source": [
    "df['rbc'].mode()"
   ]
  },
  {
   "cell_type": "code",
   "execution_count": 19,
   "metadata": {
    "colab": {
     "base_uri": "https://localhost:8080/"
    },
    "id": "WZiOM7htwYhu",
    "outputId": "ccfdf74c-712e-421f-c5f9-079481d4c746"
   },
   "outputs": [
    {
     "data": {
      "text/plain": [
       "0    normal\n",
       "dtype: object"
      ]
     },
     "execution_count": 19,
     "metadata": {},
     "output_type": "execute_result"
    }
   ],
   "source": [
    "df['pc'].mode()"
   ]
  },
  {
   "cell_type": "code",
   "execution_count": 20,
   "metadata": {
    "colab": {
     "base_uri": "https://localhost:8080/"
    },
    "id": "fqTzlT0hwkG_",
    "outputId": "149b33a8-d3a7-4825-9737-865e39aa07b3"
   },
   "outputs": [
    {
     "data": {
      "text/plain": [
       "0    notpresent\n",
       "dtype: object"
      ]
     },
     "execution_count": 20,
     "metadata": {},
     "output_type": "execute_result"
    }
   ],
   "source": [
    "df['pcc'].mode()"
   ]
  },
  {
   "cell_type": "code",
   "execution_count": 21,
   "metadata": {
    "colab": {
     "base_uri": "https://localhost:8080/"
    },
    "id": "alifu5Utwmg3",
    "outputId": "0d9593ca-1783-48f8-9b25-03c0ac4c2abf"
   },
   "outputs": [
    {
     "data": {
      "text/plain": [
       "0    notpresent\n",
       "dtype: object"
      ]
     },
     "execution_count": 21,
     "metadata": {},
     "output_type": "execute_result"
    }
   ],
   "source": [
    "df['ba'].mode()"
   ]
  },
  {
   "cell_type": "code",
   "execution_count": 22,
   "metadata": {
    "colab": {
     "base_uri": "https://localhost:8080/"
    },
    "id": "0Ks2wzXzwpNY",
    "outputId": "b5893aea-6920-42e0-9da3-5a329c9e3667"
   },
   "outputs": [
    {
     "data": {
      "text/plain": [
       "0    no\n",
       "dtype: object"
      ]
     },
     "execution_count": 22,
     "metadata": {},
     "output_type": "execute_result"
    }
   ],
   "source": [
    "df['htn'].mode()"
   ]
  },
  {
   "cell_type": "code",
   "execution_count": 23,
   "metadata": {
    "colab": {
     "base_uri": "https://localhost:8080/"
    },
    "id": "MQJqqP7mwrWX",
    "outputId": "3b1f4e3a-dc49-4d9c-808a-8786211cd88c"
   },
   "outputs": [
    {
     "data": {
      "text/plain": [
       "0    no\n",
       "dtype: object"
      ]
     },
     "execution_count": 23,
     "metadata": {},
     "output_type": "execute_result"
    }
   ],
   "source": [
    "df['dm'].mode()"
   ]
  },
  {
   "cell_type": "code",
   "execution_count": 24,
   "metadata": {
    "colab": {
     "base_uri": "https://localhost:8080/"
    },
    "id": "3qDRX6dsw_rq",
    "outputId": "0a2db60a-a5d6-45fc-a6c0-541a42b95b7c"
   },
   "outputs": [
    {
     "data": {
      "text/plain": [
       "0    no\n",
       "dtype: object"
      ]
     },
     "execution_count": 24,
     "metadata": {},
     "output_type": "execute_result"
    }
   ],
   "source": [
    "df['cad'].mode()"
   ]
  },
  {
   "cell_type": "code",
   "execution_count": 25,
   "metadata": {
    "colab": {
     "base_uri": "https://localhost:8080/"
    },
    "id": "Fr5-o6nRxC2W",
    "outputId": "4142add2-82d8-41bb-ef15-923e7b38735c"
   },
   "outputs": [
    {
     "data": {
      "text/plain": [
       "0    good\n",
       "dtype: object"
      ]
     },
     "execution_count": 25,
     "metadata": {},
     "output_type": "execute_result"
    }
   ],
   "source": [
    "df['appet'].mode()"
   ]
  },
  {
   "cell_type": "code",
   "execution_count": 26,
   "metadata": {
    "colab": {
     "base_uri": "https://localhost:8080/"
    },
    "id": "GlEqm0fmxE_Y",
    "outputId": "a324aee4-113e-4a33-a808-8e923c99dbc1"
   },
   "outputs": [
    {
     "data": {
      "text/plain": [
       "0    no\n",
       "dtype: object"
      ]
     },
     "execution_count": 26,
     "metadata": {},
     "output_type": "execute_result"
    }
   ],
   "source": [
    "df['pe'].mode()"
   ]
  },
  {
   "cell_type": "code",
   "execution_count": 27,
   "metadata": {
    "colab": {
     "base_uri": "https://localhost:8080/"
    },
    "id": "Mx0eBaU5xHT0",
    "outputId": "4201dc69-e6bc-4ca5-8cef-ef07c85e4074"
   },
   "outputs": [
    {
     "data": {
      "text/plain": [
       "0    no\n",
       "dtype: object"
      ]
     },
     "execution_count": 27,
     "metadata": {},
     "output_type": "execute_result"
    }
   ],
   "source": [
    "df['ane'].mode()"
   ]
  },
  {
   "cell_type": "markdown",
   "metadata": {
    "id": "L0X_pYAr1cjd"
   },
   "source": [
    "**fill missing data**"
   ]
  },
  {
   "cell_type": "code",
   "execution_count": 28,
   "metadata": {
    "id": "8SH1iIGQtKmz"
   },
   "outputs": [],
   "source": [
    "#filling missing values with mode for categorical attributes\n",
    "df['rbc'].fillna('normal',inplace=True)\n",
    "df['pc'].fillna('normal',inplace=True)\n",
    "df['pcc'].fillna('notpresent',inplace=True)\n",
    "df['ba'].fillna('notpresent',inplace=True)\n",
    "df['htn'].fillna('no',inplace=True)\n",
    "df['dm'].fillna('no',inplace=True)\n",
    "df['cad'].fillna('no',inplace=True)\n",
    "df['appet'].fillna('good',inplace=True)\n",
    "df['pe'].fillna('no',inplace=True)\n",
    "df['ane'].fillna('no',inplace=True)"
   ]
  },
  {
   "cell_type": "code",
   "execution_count": 29,
   "metadata": {
    "id": "MVRMsq-jxZFS"
   },
   "outputs": [],
   "source": [
    "#filling missing values with median for numerical attributes\n",
    "for col in num_cols:\n",
    "    df[col]=df[col].fillna(df[col].median())"
   ]
  },
  {
   "cell_type": "markdown",
   "metadata": {
    "id": "qw47X7yg1n_C"
   },
   "source": [
    "**Dataset after cleaning**"
   ]
  },
  {
   "cell_type": "code",
   "execution_count": 30,
   "metadata": {
    "colab": {
     "base_uri": "https://localhost:8080/"
    },
    "id": "Y3UNEcCmtZCW",
    "outputId": "a4cbec33-1eb8-419c-aeb1-ff511553958d"
   },
   "outputs": [
    {
     "data": {
      "text/plain": [
       "id                0\n",
       "age               0\n",
       "ane               0\n",
       "pe                0\n",
       "appet             0\n",
       "cad               0\n",
       "dm                0\n",
       "htn               0\n",
       "rc                0\n",
       "wc                0\n",
       "pcv               0\n",
       "hemo              0\n",
       "pot               0\n",
       "sod               0\n",
       "sc                0\n",
       "bu                0\n",
       "bgr               0\n",
       "ba                0\n",
       "pcc               0\n",
       "pc                0\n",
       "rbc               0\n",
       "su                0\n",
       "al                0\n",
       "sg                0\n",
       "bp                0\n",
       "classification    0\n",
       "dtype: int64"
      ]
     },
     "execution_count": 30,
     "metadata": {},
     "output_type": "execute_result"
    }
   ],
   "source": [
    "df.isna().sum().sort_values(ascending=False)"
   ]
  },
  {
   "cell_type": "code",
   "execution_count": 31,
   "metadata": {
    "colab": {
     "base_uri": "https://localhost:8080/"
    },
    "id": "8JKvxz52ydzw",
    "outputId": "28f2d87e-fa16-4137-e9ba-9d70b9eb107c"
   },
   "outputs": [
    {
     "data": {
      "text/plain": [
       "array(['ckd', 'notckd'], dtype=object)"
      ]
     },
     "execution_count": 31,
     "metadata": {},
     "output_type": "execute_result"
    }
   ],
   "source": [
    "df['classification'].unique()"
   ]
  },
  {
   "cell_type": "markdown",
   "metadata": {
    "id": "mOIcQs0u19Kv"
   },
   "source": [
    "**Label encoding for target attribute**"
   ]
  },
  {
   "cell_type": "code",
   "execution_count": 32,
   "metadata": {
    "id": "ud-L7ofutbN9"
   },
   "outputs": [],
   "source": [
    "#label encoding for target class\n",
    "df['classification']=df['classification'].map({'ckd':1,'notckd':0})"
   ]
  },
  {
   "cell_type": "code",
   "execution_count": 33,
   "metadata": {
    "colab": {
     "base_uri": "https://localhost:8080/"
    },
    "id": "ZR0P7BTAyk6Y",
    "outputId": "a0042c64-6b71-4baa-c57f-12ec39928220"
   },
   "outputs": [
    {
     "data": {
      "text/plain": [
       "array([1, 0], dtype=int64)"
      ]
     },
     "execution_count": 33,
     "metadata": {},
     "output_type": "execute_result"
    }
   ],
   "source": [
    "df['classification'].unique()"
   ]
  },
  {
   "cell_type": "markdown",
   "metadata": {
    "id": "8_i2IOu_1xVg"
   },
   "source": [
    "**Label encoding for categorical data**"
   ]
  },
  {
   "cell_type": "code",
   "execution_count": 34,
   "metadata": {
    "id": "GOalvo6-tqMl"
   },
   "outputs": [],
   "source": [
    "#label encoding for categorical attributes\n",
    "df['rbc']=df['rbc'].map({'normal':0,'abnormal':1})\n",
    "df['pc']=df['pc'].map({'normal':0,'abnormal':1})\n",
    "df['pcc']=df['pcc'].map({'notpresent':0,'present':1})\n",
    "df['ba']=df['ba'].map({'notpresent':0,'present':1})\n",
    "df['htn']=df['htn'].map({'no':0,'yes':1})\n",
    "df['dm']=df['dm'].map({'no':0,'yes':1})\n",
    "df['cad']=df['cad'].map({'no':0,'yes':1})\n",
    "df['pe']=df['pe'].map({'no':0,'yes':1})\n",
    "df['ane']=df['ane'].map({'no':0,'yes':1})\n",
    "df['appet']=df['appet'].map({'good':0,'poor':1})"
   ]
  },
  {
   "cell_type": "code",
   "execution_count": 35,
   "metadata": {},
   "outputs": [],
   "source": [
    "df.to_csv('C:/Users/Chandana/Desktop/CKD/final_dataset.csv')"
   ]
  },
  {
   "cell_type": "code",
   "execution_count": 36,
   "metadata": {},
   "outputs": [
    {
     "data": {
      "text/plain": [
       "(400, 26)"
      ]
     },
     "execution_count": 36,
     "metadata": {},
     "output_type": "execute_result"
    }
   ],
   "source": [
    "df.shape"
   ]
  },
  {
   "cell_type": "markdown",
   "metadata": {
    "id": "GGMXdcIi2R_H"
   },
   "source": [
    "**Splitting data into train and test**"
   ]
  },
  {
   "cell_type": "code",
   "execution_count": 37,
   "metadata": {
    "colab": {
     "base_uri": "https://localhost:8080/"
    },
    "id": "lF8Q2b9Dt_gk",
    "outputId": "cdb17e7d-b827-400b-8f0f-a55e96375368"
   },
   "outputs": [
    {
     "name": "stdout",
     "output_type": "stream",
     "text": [
      "X_train size (320, 25) , X_test size (80, 25)\n"
     ]
    }
   ],
   "source": [
    "from sklearn.model_selection import train_test_split\n",
    "x=df.drop('classification',axis=1)#independent\n",
    "y=df['classification']#dependent\n",
    "\n",
    "X_train,X_test,y_train,y_test=train_test_split(x,y,test_size=0.2,random_state=0)\n",
    "print(\"X_train size {} , X_test size {}\".format(X_train.shape,X_test.shape))"
   ]
  },
  {
   "cell_type": "code",
   "execution_count": null,
   "metadata": {
    "id": "ZJEaiOwDzg_2"
   },
   "outputs": [],
   "source": []
  },
  {
   "cell_type": "code",
   "execution_count": null,
   "metadata": {},
   "outputs": [],
   "source": []
  }
 ],
 "metadata": {
  "colab": {
   "collapsed_sections": [],
   "provenance": []
  },
  "kernelspec": {
   "display_name": "Python 3 (ipykernel)",
   "language": "python",
   "name": "python3"
  },
  "language_info": {
   "codemirror_mode": {
    "name": "ipython",
    "version": 3
   },
   "file_extension": ".py",
   "mimetype": "text/x-python",
   "name": "python",
   "nbconvert_exporter": "python",
   "pygments_lexer": "ipython3",
   "version": "3.9.7"
  }
 },
 "nbformat": 4,
 "nbformat_minor": 1
}
